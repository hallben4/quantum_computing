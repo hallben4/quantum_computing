{
 "cells": [
  {
   "cell_type": "markdown",
   "metadata": {},
   "source": [
    "# Variational Quantum Eigensolver"
   ]
  },
  {
   "cell_type": "markdown",
   "metadata": {},
   "source": [
    "The $\\textbf{variational quantum eigensolver}$ [1] is a hybrid quantum-classical algorithm that estimates the ground-state energy of a Hamiltonian.\n",
    "\n",
    "VQE is based on the variational principle of quantum mechanics which is explained and proven below:\n",
    "\n",
    "Consider a Hamiltonian $H$ that has eigen-energies $E_n$ and corresponding eigenstates $|n\\rangle$. That is:\n",
    "\n",
    "$$ H|n\\rangle=E_n|n\\rangle $$\n",
    "for $n=0,2,...,N-1$.\n",
    "\n",
    "Consider a normalized state $|\\psi(\\theta)\\rangle$ paramaterized by a set of parameters $\\theta=\\{\\theta_n\\}_{n}$. We can expand this state in terms of the eigenvectors of the Hamiltonian as\n",
    "\n",
    "$$ |\\psi(\\theta)\\rangle=\\sum_nc_n|n\\rangle $$\n",
    "\n",
    "Then, the expectation value of the Hamiltonian in this state is\n",
    "\n",
    "$$\n",
    "\\begin{align*}\n",
    "\\langle\\psi(\\theta)|H|\\psi(\\theta)\\rangle \n",
    "&=\\sum_{n,m}c_n^*c_m\\langle n|H|m \\rangle \\\\\n",
    "&=\\sum_{n,m}c_n^*c_m\\langle n|E_m|m \\rangle \\\\\n",
    "&=\\sum_{n,m}c_n^*c_mE_m\\langle n|m \\rangle \\\\\n",
    "&=\\sum_{n,m}c_n^*c_mE_m \\delta_{nm}\\\\\n",
    "&=\\sum_{n}|c_n|^2E_n \\\\\n",
    "&\\geq\\sum_{n}|c_n|^2E_0 \\\\\n",
    "&= E_0\\sum_{n}|c_n|^2 \\\\\n",
    "&= E_0 \\\\\n",
    "\\end{align*}\n",
    "$$\n",
    "\n",
    "Therefore,\n",
    "\n",
    "$$ \\min_{\\theta} \\ \\langle\\psi(\\theta)|H|\\psi(\\theta)\\rangle  = E_0 $$\n",
    "\n",
    "In VQE: \n",
    "- a $\\textbf{quantum computer}$ is used to calculate $\\langle\\psi(\\theta)|H|\\psi(\\theta)\\rangle$ while\n",
    "- a $\\textbf{classical computer}$ is used to minimize over the set of parameters $\\theta$"
   ]
  },
  {
   "cell_type": "markdown",
   "metadata": {},
   "source": [
    "# Ising Model"
   ]
  },
  {
   "cell_type": "markdown",
   "metadata": {},
   "source": [
    "The $\\textbf{Ising Model}$ [2] is used to model the interaction of spins in systems like magnets.\n",
    "\n",
    "As a pedagogical example, we'll use VQE to solve a simple two-spin Ising Hamiltonian:\n",
    "\n",
    "$$H=X\\otimes X+Y\\otimes Y+Z\\otimes Z$$"
   ]
  },
  {
   "cell_type": "markdown",
   "metadata": {},
   "source": [
    "## Classical Computing Solution"
   ]
  },
  {
   "cell_type": "markdown",
   "metadata": {},
   "source": [
    "First we import:"
   ]
  },
  {
   "cell_type": "code",
   "execution_count": 1,
   "metadata": {},
   "outputs": [],
   "source": [
    "import numpy as np"
   ]
  },
  {
   "cell_type": "markdown",
   "metadata": {},
   "source": [
    "Then we define the Pauli matrices:"
   ]
  },
  {
   "cell_type": "code",
   "execution_count": 2,
   "metadata": {},
   "outputs": [],
   "source": [
    "X = np.matrix([[0,1],[1,0]],dtype=complex)\n",
    "Y = np.matrix([[0,-1j],[1j,0]],dtype=complex)\n",
    "Z = np.matrix([[1,0],[0,-1]],dtype=complex)"
   ]
  },
  {
   "cell_type": "markdown",
   "metadata": {},
   "source": [
    "Then we define the Hamiltonian:"
   ]
  },
  {
   "cell_type": "code",
   "execution_count": 3,
   "metadata": {},
   "outputs": [],
   "source": [
    "H = np.kron(X,X)+np.kron(Y,Y)+np.kron(Z,Z)"
   ]
  },
  {
   "cell_type": "markdown",
   "metadata": {},
   "source": [
    "Then we get the eigenvalue and eigenvectors"
   ]
  },
  {
   "cell_type": "code",
   "execution_count": 4,
   "metadata": {},
   "outputs": [
    {
     "name": "stdout",
     "output_type": "stream",
     "text": [
      "Eigenvalues:\n",
      "[ 1. -3.  1.  1.]\n",
      "Eigenvectors:\n",
      "[[-0.         -0.          1.          0.        ]\n",
      " [ 0.70710678 -0.70710678  0.          0.        ]\n",
      " [ 0.70710678  0.70710678  0.          0.        ]\n",
      " [-0.         -0.          0.          1.        ]]\n"
     ]
    }
   ],
   "source": [
    "e_val, e_vec = np.linalg.eig(H)\n",
    "\n",
    "print('Eigenvalues:')\n",
    "print(np.real(e_val))\n",
    "print('Eigenvectors:')\n",
    "print(np.real(e_vec))"
   ]
  },
  {
   "cell_type": "markdown",
   "metadata": {},
   "source": [
    "It can be seen that the ground state energy (minimum energy eigenvalue) is $E_0=-3$ with corresponding eigenvector:\n",
    "\n",
    "$$ \n",
    "|\\psi_0\\rangle =\n",
    "\\frac{1}{\\sqrt{2}}\n",
    "\\begin{pmatrix}\n",
    "0 \\\\ -1 \\\\ 1 \\\\ 0\n",
    "\\end{pmatrix}\n",
    "= \\frac{|10\\rangle-|01\\rangle}{\\sqrt{2}}\n",
    "$$"
   ]
  },
  {
   "cell_type": "markdown",
   "metadata": {},
   "source": [
    "## Variational Solution"
   ]
  },
  {
   "cell_type": "markdown",
   "metadata": {},
   "source": [
    "We're going to base our variational state of the Bethe ansatz [3] and choose\n",
    "\n",
    "$$ \n",
    "|\\psi(\\theta)\\rangle=\\frac{|10\\rangle+e^{i\\theta}|01\\rangle}{\\sqrt{2}}\n",
    "$$\n",
    "\n",
    "We can now take the expectation value of $H$ is our variational state. To do this, first note that\n",
    "\n",
    "$$\n",
    "\\begin{align*}\n",
    "(X \\otimes X) |\\psi(\\theta)\\rangle \n",
    "&= (X \\otimes X)\\frac{|10\\rangle+e^{i\\theta}|01\\rangle}{\\sqrt{2}}\n",
    "= \\frac{|01\\rangle+e^{i\\theta}|10\\rangle}{\\sqrt{2}}\n",
    "\\\\\n",
    "(Y \\otimes Y) |\\psi(\\theta)\\rangle \n",
    "&= (Y \\otimes Y)\\frac{|10\\rangle+e^{i\\theta}|01\\rangle}{\\sqrt{2}}\n",
    "= \\frac{|01\\rangle+e^{i\\theta}|10\\rangle}{\\sqrt{2}}\n",
    "\\\\\n",
    "(Z \\otimes Z) |\\psi(\\theta)\\rangle \n",
    "&= (Z \\otimes Z)\\frac{|10\\rangle+e^{i\\theta}|01\\rangle}{\\sqrt{2}}\n",
    "= -\\frac{|10\\rangle+e^{i\\theta}|01\\rangle}{\\sqrt{2}}\n",
    "\\end{align*}\n",
    "$$\n",
    "\n",
    "and therefore\n",
    "\n",
    "$$\n",
    "\\begin{align*}\n",
    "H|\\psi(\\theta)\\rangle \n",
    "&=\n",
    "\\left(X \\otimes X + Y \\otimes Y + Z \\otimes Z\\right)|\\psi(\\theta)\\rangle \n",
    "\\\\\n",
    "&=\\frac{\\left(2e^{i\\theta}-1\\right)|10\\rangle+\\left(2-e^{i\\theta}\\right)|01\\rangle}{\\sqrt{2}}\n",
    "\\end{align*}\n",
    "$$\n",
    "\n",
    "Thus, the expectation value is\n",
    "\n",
    "$$\n",
    "\\begin{align*}\n",
    "\\langle\\psi(\\theta)|H|\\psi(\\theta)\\rangle\n",
    "&=\n",
    "\\frac{\\langle10|+e^{-i\\theta}\\langle01|}{\\sqrt{2}}\n",
    "\\left[\\frac{\\left(2e^{i\\theta}-1\\right)|10\\rangle+\\left(2-e^{i\\theta}\\right)|01\\rangle}{\\sqrt{2}}\\right]\n",
    "\\\\\n",
    "&=\\frac{\\left(2e^{i\\theta}-1\\right)+\\left(2e^{-i\\theta}-1\\right)}{2}\n",
    "\\\\\n",
    "&=\\cos(\\theta)-1\n",
    "\\end{align*}\n",
    "$$\n",
    "\n",
    "To find the minimum, note that \n",
    "\n",
    "$$\n",
    "0 = \\frac{d}{d\\theta}|\\psi(\\theta)\\rangle = -2\\sin(\\theta)\n",
    "$$\n",
    "\n",
    "which implies that there are extrema at $\\theta=0,\\pi$. The minimum will be when the second derivative is positive\n",
    "\n",
    "$$\n",
    "0 < \\frac{d^2}{d\\theta^2}=-2\\cos(\\theta)\n",
    "$$\n",
    "\n",
    "Between $0$ and $\\pi$, the value of $\\theta$ that satisfies this is $\\pi$. Thus, the eigenstate that minimizes the energy is\n",
    "\n",
    "$$\n",
    "|\\psi(\\pi)\\rangle \n",
    "=\\frac{|10\\rangle+e^{i\\pi}|01\\rangle}{\\sqrt{2}}\n",
    "=\\frac{|10\\rangle-|01\\rangle}{\\sqrt{2}}\n",
    "$$\n",
    "\n",
    "and the minimum energy is\n",
    "\n",
    "$$\n",
    "\\min_{\\theta}\\langle\\psi(\\theta)|H|\\psi(\\theta)\\rangle\n",
    "=\\langle\\psi(\\pi)|H|\\psi(\\pi)\\rangle\n",
    "=2\\cos(\\pi)-1\n",
    "=-3\n",
    "$$\n",
    "\n",
    "both of which agree with the classical computing solution."
   ]
  },
  {
   "cell_type": "markdown",
   "metadata": {},
   "source": [
    "## Quantum Computing Solution"
   ]
  },
  {
   "cell_type": "markdown",
   "metadata": {},
   "source": [
    "First we import and define:"
   ]
  },
  {
   "cell_type": "code",
   "execution_count": 5,
   "metadata": {},
   "outputs": [],
   "source": [
    "from qiskit import *"
   ]
  },
  {
   "cell_type": "markdown",
   "metadata": {},
   "source": [
    "Now, we need to initialize the state\n",
    "\n",
    "$$|\\psi(\\theta)\\rangle=\\frac{|10\\rangle+e^{i\\theta}|01\\rangle}{\\sqrt{2}}$$\n",
    "\n",
    "on a quantum computer. This can be done with the following circuit:"
   ]
  },
  {
   "cell_type": "code",
   "execution_count": 6,
   "metadata": {},
   "outputs": [
    {
     "data": {
      "image/png": "[encoded data removed]",
      "text/plain": [
       "<Figure size 337.12x144.48 with 1 Axes>"
      ]
     },
     "execution_count": 6,
     "metadata": {},
     "output_type": "execute_result"
    }
   ],
   "source": [
    "# Create quantum circuit with 2 qubits\n",
    "q = QuantumRegister(2, 'q')\n",
    "circ = QuantumCircuit(q)\n",
    "\n",
    "# Paramater\n",
    "theta = 'theta'\n",
    "\n",
    "# Add quantum gates\n",
    "circ.x(q[1])\n",
    "circ.h(q[0])\n",
    "circ.cx(q[0],q[1])\n",
    "circ.u1(theta,q[0])\n",
    "\n",
    "circ.draw(output='mpl')"
   ]
  },
  {
   "cell_type": "markdown",
   "metadata": {},
   "source": [
    "This can be seen by walking through the circuit step by step:\n",
    "\n",
    "$$\n",
    "\\begin{align*}\n",
    "|00\\rangle\n",
    "&\\to\\left[X \\otimes I\\right]|00\\rangle = |10\\rangle \\\\\n",
    "&\\to\\left[I \\otimes H\\right]|10\\rangle = \\frac{|10\\rangle+|11\\rangle}{\\sqrt{2}} \\\\\n",
    "&\\to \\text{CNOT}_{01}\\left[\\frac{|10\\rangle+|11\\rangle}{\\sqrt{2}}\\right]=\\frac{|10\\rangle+|01\\rangle}{\\sqrt{2}} \\\\\n",
    "&\\to \\left[I\\otimes U_1(\\theta)\\right]\\left[\\frac{|10\\rangle+|01\\rangle}{\\sqrt{2}}\\right]\n",
    "=\\frac{|10\\rangle+e^{i\\theta}|01\\rangle}{\\sqrt{2}}\n",
    "\\end{align*}\n",
    "$$\n",
    "\n",
    "So, we define a function that creates the quantum circuit tha prepares this initiale state, paramaterized by $\\theta$:"
   ]
  },
  {
   "cell_type": "code",
   "execution_count": 7,
   "metadata": {},
   "outputs": [],
   "source": [
    "def initialize_state(theta):\n",
    "    \n",
    "    # Create quantum circuit with 2 qubits\n",
    "    q = QuantumRegister(2,'q')\n",
    "    c = ClassicalRegister(2,'c')\n",
    "    circ = QuantumCircuit(q,c)\n",
    "\n",
    "    # Prepare initial state\n",
    "    circ.x(q[1])\n",
    "    circ.h(q[0])\n",
    "    circ.cx(q[0],q[1])\n",
    "    circ.u1(theta,q[0])\n",
    "    \n",
    "    return circ,q,c"
   ]
  },
  {
   "cell_type": "markdown",
   "metadata": {},
   "source": [
    "## Expectation Values"
   ]
  },
  {
   "cell_type": "markdown",
   "metadata": {},
   "source": [
    "Recall that we can write expectation values in terms of probabilities. For our example, we have that\n",
    "\n",
    "$$\n",
    "\\begin{align*}\n",
    "\\langle\\psi|(X \\otimes X)|\\psi\\rangle\n",
    "&=P_{|\\psi\\rangle_x}(00)-P_{|\\psi\\rangle_x}(01)-P_{|\\psi\\rangle_x}(10)+P_{|\\psi\\rangle_x}(11) \\\\\n",
    "\\langle\\psi|(Y \\otimes Y)|\\psi\\rangle\n",
    "&=P_{|\\psi\\rangle_y}(00)-P_{|\\psi\\rangle_y}(01)-P_{|\\psi\\rangle_y}(10)+P_{|\\psi\\rangle_y}(11) \\\\\n",
    "\\langle\\psi|(Z \\otimes Z|\\psi\\rangle \n",
    "&=P_{|\\psi\\rangle_z}(00)-P_{|\\psi\\rangle_z}(01)-P_{|\\psi\\rangle_z}(10)+P_{|\\psi\\rangle_z}(11) \n",
    "\\end{align*}\n",
    "$$\n",
    "\n",
    "where bases have been rotated as follows\n",
    "\n",
    "$$\n",
    "\\begin{align*}\n",
    "|\\psi\\rangle_x&=(H \\otimes H)|\\psi\\rangle \\\\\n",
    "|\\psi\\rangle_y&=(HS^{\\dagger} \\otimes HS^{\\dagger})|\\psi\\rangle \\\\\n",
    "|\\psi\\rangle_z&=|\\psi\\rangle\n",
    "\\end{align*}\n",
    "$$\n",
    "\n",
    "Therefore, we write a function that takes in a circuit that prepares $|\\psi\\rangle$ and appends the necessary basis rotation gates for a given observable so that expectation values may be extracted from runs of the circuit."
   ]
  },
  {
   "cell_type": "code",
   "execution_count": 8,
   "metadata": {},
   "outputs": [],
   "source": [
    "def rotate(obs,circ,q,c):\n",
    "    \n",
    "    # Rotate basis\n",
    "    if obs == 'zz':\n",
    "        pass\n",
    "    elif obs == 'xx':\n",
    "        circ.h(q)\n",
    "    elif obs == 'yy':\n",
    "        circ.sdg(q)\n",
    "        circ.h(q)\n",
    "        \n",
    "    return circ,q,c"
   ]
  },
  {
   "cell_type": "markdown",
   "metadata": {},
   "source": [
    "No we make a function that calculates the expectation value from a rotated circuit for a given obervable by creating a linear combination of the probabilities using the definitions above:"
   ]
  },
  {
   "cell_type": "code",
   "execution_count": 9,
   "metadata": {},
   "outputs": [],
   "source": [
    "def lin_comb(circ,q,c):\n",
    "    \n",
    "    # Measure\n",
    "    circ.measure(q,c)\n",
    "    \n",
    "    # Run the circuit\n",
    "    shots = 1000 # Number of times to run the circuit\n",
    "    backend = Aer.get_backend('qasm_simulator') # Chose to simulate the circuit\n",
    "    sim = execute(circ, backend, shots = shots) # Simulate the circuit\n",
    "    result = sim.result() # Get the results\n",
    "    counts = result.get_counts(circ) # Get how many counts there are for each measurement\n",
    "\n",
    "    # Initialize expectation value to zero\n",
    "    exp = 0 \n",
    "    # Add and subtract estimated probabilites to get expectation value\n",
    "    if '00' in counts:\n",
    "        exp += counts['00']\n",
    "    if '01' in counts:\n",
    "        exp -= counts['01']\n",
    "    if '10' in counts:\n",
    "        exp -= counts['10']\n",
    "    if '11' in counts:\n",
    "        exp += counts['11']\n",
    "    \n",
    "    return exp/shots"
   ]
  },
  {
   "cell_type": "markdown",
   "metadata": {},
   "source": [
    "Now we make a function that puts it all together: taking in the initial parameter and observable, and outputing the expectation value of that observable in the state paramaterized by that initial parameter:"
   ]
  },
  {
   "cell_type": "code",
   "execution_count": 10,
   "metadata": {},
   "outputs": [],
   "source": [
    "def expect(theta,obs):\n",
    "    \n",
    "    # Initialize state\n",
    "    circ,q,c = initialize_state(theta)\n",
    "    \n",
    "    # Rotate to appropriate basis\n",
    "    circ,q,c = rotate(obs,circ,q,c)\n",
    "    \n",
    "    # Get expectation value\n",
    "    exp = lin_comb(circ,q,c)\n",
    "    \n",
    "    return exp"
   ]
  },
  {
   "cell_type": "markdown",
   "metadata": {},
   "source": [
    "Now we create a function to calculate the energy by summing together the expectation values of each of the terms in the Hamiltonians:"
   ]
  },
  {
   "cell_type": "code",
   "execution_count": 11,
   "metadata": {},
   "outputs": [],
   "source": [
    "def energy(theta):\n",
    "    \n",
    "    energy = expect(theta,'xx') + expect(theta,'yy') + expect(theta,'zz')\n",
    "    \n",
    "    return energy"
   ]
  },
  {
   "cell_type": "markdown",
   "metadata": {},
   "source": [
    "We can check that our function is working correctly by checking the expectation value of eigenstates"
   ]
  },
  {
   "cell_type": "code",
   "execution_count": 12,
   "metadata": {},
   "outputs": [
    {
     "name": "stdout",
     "output_type": "stream",
     "text": [
      "Expectation value of state with theta = 0: 1.0\n",
      "Expectation value of state with theta = pi: -3.0\n"
     ]
    }
   ],
   "source": [
    "print('Expectation value of state with theta = 0:',energy(0))\n",
    "print('Expectation value of state with theta = pi:',energy(np.pi))"
   ]
  },
  {
   "cell_type": "markdown",
   "metadata": {},
   "source": [
    "We can now perform VQE by feeding the expectation value to a classical minimizer:"
   ]
  },
  {
   "cell_type": "code",
   "execution_count": 16,
   "metadata": {},
   "outputs": [
    {
     "data": {
      "image/png": "[encoded data removed]",
      "text/plain": [
       "<Figure size 432x288 with 1 Axes>"
      ]
     },
     "metadata": {
      "needs_background": "light"
     },
     "output_type": "display_data"
    },
    {
     "name": "stdout",
     "output_type": "stream",
     "text": [
      "E_true -3\n",
      "E_vqe -3.0\n",
      "theta_true: 3.141592653589793\n",
      "theta_vqe= 3.1368149201574553\n"
     ]
    }
   ],
   "source": [
    "import scipy as sp\n",
    "from IPython.display import clear_output\n",
    "import matplotlib.pyplot as plt\n",
    "\n",
    "diff = []\n",
    "def callback(x):\n",
    "    diff.append(energy(x)-true_eval)\n",
    "    itr = np.linspace(1,len(diff),len(diff))\n",
    "    plt.plot(itr,diff)\n",
    "    plt.xlabel('Iterations')\n",
    "    plt.ylabel('Energy Difference')\n",
    "    clear_output(wait=True)\n",
    "    plt.show()\n",
    "\n",
    "# Actual minimum eigenvalue from classical computation\n",
    "true_eval = -3\n",
    "\n",
    "# Initialize paramater\n",
    "theta = np.random.uniform(0,2*np.pi)\n",
    "\n",
    "# Minimize\n",
    "opt = sp.optimize.minimize(energy, x0=theta, method=\"Nelder-Mead\", callback=callback)\n",
    "\n",
    "theta_est = opt.x[0]\n",
    "\n",
    "print(\"E_true\",true_eval)\n",
    "print(\"E_vqe\",energy(theta_est))\n",
    "print(\"theta_true:\",pi)\n",
    "print(\"theta_vqe=\",theta_est)"
   ]
  },
  {
   "cell_type": "markdown",
   "metadata": {},
   "source": [
    "## References:\n",
    "[1] https://arxiv.org/pdf/1304.3061.pdf\n",
    "\n",
    "[2] https://en.wikipedia.org/wiki/Ising_model\n",
    "\n",
    "[3] https://arxiv.org/pdf/cond-mat/9809162.pdf"
   ]
  }
 ],
 "metadata": {
  "kernelspec": {
   "display_name": "Python 3",
   "language": "python",
   "name": "python3"
  },
  "language_info": {
   "codemirror_mode": {
    "name": "ipython",
    "version": 3
   },
   "file_extension": ".py",
   "mimetype": "text/x-python",
   "name": "python",
   "nbconvert_exporter": "python",
   "pygments_lexer": "ipython3",
   "version": "3.7.3"
  }
 },
 "nbformat": 4,
 "nbformat_minor": 2
}
